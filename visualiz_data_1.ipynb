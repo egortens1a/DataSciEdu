{
 "cells": [
  {
   "cell_type": "code",
   "execution_count": 3,
   "id": "54bf0fef-bb0b-4ba8-a27a-11b8d37ecfff",
   "metadata": {},
   "outputs": [],
   "source": [
    "import pandas as pd\n",
    "import numpy as np\n",
    "%matplotlib inline\n",
    "import matplotlib.pyplot as plt\n",
    "import seaborn as sns"
   ]
  },
  {
   "cell_type": "code",
   "execution_count": 73,
   "id": "63fa49f1-2ae3-4514-bcdb-c8458db75512",
   "metadata": {},
   "outputs": [
    {
     "data": {
      "text/plain": [
       "attack_type                   Ranged\n",
       "id                                22\n",
       "legs                               2\n",
       "localized_name                  Zeus\n",
       "name              npc_dota_hero_zuus\n",
       "primary_attr                     int\n",
       "roles                      ['Nuker']\n",
       "count_roles                        1\n",
       "Name: 21, dtype: object"
      ]
     },
     "execution_count": 73,
     "metadata": {},
     "output_type": "execute_result"
    }
   ],
   "source": [
    "df = pd.read_csv(r\"C:\\Users\\PC\\Downloads\\dota_hero_stats (1).csv\").set_index(\"Unnamed: 0\")\n",
    "df[\"count_roles\"] = df.roles.str.split(',').apply(len)# == df.roles.str.count(',')\n",
    "df.loc[21,:]"
   ]
  },
  {
   "cell_type": "code",
   "execution_count": 68,
   "id": "ad30cf1f-20c1-4258-9a18-5fe9f6dfd185",
   "metadata": {},
   "outputs": [
    {
     "data": {
      "text/html": [
       "<div>\n",
       "<style scoped>\n",
       "    .dataframe tbody tr th:only-of-type {\n",
       "        vertical-align: middle;\n",
       "    }\n",
       "\n",
       "    .dataframe tbody tr th {\n",
       "        vertical-align: top;\n",
       "    }\n",
       "\n",
       "    .dataframe thead th {\n",
       "        text-align: right;\n",
       "    }\n",
       "</style>\n",
       "<table border=\"1\" class=\"dataframe\">\n",
       "  <thead>\n",
       "    <tr style=\"text-align: right;\">\n",
       "      <th></th>\n",
       "      <th>attack_type</th>\n",
       "      <th>id</th>\n",
       "      <th>legs</th>\n",
       "      <th>localized_name</th>\n",
       "      <th>name</th>\n",
       "      <th>primary_attr</th>\n",
       "      <th>roles</th>\n",
       "      <th>count_roles</th>\n",
       "    </tr>\n",
       "    <tr>\n",
       "      <th>Unnamed: 0</th>\n",
       "      <th></th>\n",
       "      <th></th>\n",
       "      <th></th>\n",
       "      <th></th>\n",
       "      <th></th>\n",
       "      <th></th>\n",
       "      <th></th>\n",
       "      <th></th>\n",
       "    </tr>\n",
       "  </thead>\n",
       "  <tbody>\n",
       "    <tr>\n",
       "      <th>3</th>\n",
       "      <td>Melee</td>\n",
       "      <td>4</td>\n",
       "      <td>2</td>\n",
       "      <td>Bloodseeker</td>\n",
       "      <td>npc_dota_hero_bloodseeker</td>\n",
       "      <td>agi</td>\n",
       "      <td>['Carry', 'Disabler', 'Jungler', 'Nuker', 'Ini...</td>\n",
       "      <td>5</td>\n",
       "    </tr>\n",
       "    <tr>\n",
       "      <th>8</th>\n",
       "      <td>Ranged</td>\n",
       "      <td>9</td>\n",
       "      <td>2</td>\n",
       "      <td>Mirana</td>\n",
       "      <td>npc_dota_hero_mirana</td>\n",
       "      <td>agi</td>\n",
       "      <td>['Carry', 'Support', 'Escape', 'Nuker', 'Disab...</td>\n",
       "      <td>5</td>\n",
       "    </tr>\n",
       "    <tr>\n",
       "      <th>9</th>\n",
       "      <td>Ranged</td>\n",
       "      <td>10</td>\n",
       "      <td>0</td>\n",
       "      <td>Morphling</td>\n",
       "      <td>npc_dota_hero_morphling</td>\n",
       "      <td>agi</td>\n",
       "      <td>['Carry', 'Escape', 'Durable', 'Nuker', 'Disab...</td>\n",
       "      <td>5</td>\n",
       "    </tr>\n",
       "    <tr>\n",
       "      <th>16</th>\n",
       "      <td>Ranged</td>\n",
       "      <td>17</td>\n",
       "      <td>2</td>\n",
       "      <td>Storm Spirit</td>\n",
       "      <td>npc_dota_hero_storm_spirit</td>\n",
       "      <td>int</td>\n",
       "      <td>['Carry', 'Escape', 'Nuker', 'Initiator', 'Dis...</td>\n",
       "      <td>5</td>\n",
       "    </tr>\n",
       "    <tr>\n",
       "      <th>17</th>\n",
       "      <td>Melee</td>\n",
       "      <td>18</td>\n",
       "      <td>2</td>\n",
       "      <td>Sven</td>\n",
       "      <td>npc_dota_hero_sven</td>\n",
       "      <td>str</td>\n",
       "      <td>['Carry', 'Disabler', 'Initiator', 'Durable', ...</td>\n",
       "      <td>5</td>\n",
       "    </tr>\n",
       "  </tbody>\n",
       "</table>\n",
       "</div>"
      ],
      "text/plain": [
       "           attack_type  id  legs localized_name                        name  \\\n",
       "Unnamed: 0                                                                    \n",
       "3                Melee   4     2    Bloodseeker   npc_dota_hero_bloodseeker   \n",
       "8               Ranged   9     2         Mirana        npc_dota_hero_mirana   \n",
       "9               Ranged  10     0      Morphling     npc_dota_hero_morphling   \n",
       "16              Ranged  17     2   Storm Spirit  npc_dota_hero_storm_spirit   \n",
       "17               Melee  18     2           Sven          npc_dota_hero_sven   \n",
       "\n",
       "           primary_attr                                              roles  \\\n",
       "Unnamed: 0                                                                   \n",
       "3                   agi  ['Carry', 'Disabler', 'Jungler', 'Nuker', 'Ini...   \n",
       "8                   agi  ['Carry', 'Support', 'Escape', 'Nuker', 'Disab...   \n",
       "9                   agi  ['Carry', 'Escape', 'Durable', 'Nuker', 'Disab...   \n",
       "16                  int  ['Carry', 'Escape', 'Nuker', 'Initiator', 'Dis...   \n",
       "17                  str  ['Carry', 'Disabler', 'Initiator', 'Durable', ...   \n",
       "\n",
       "            count_roles  \n",
       "Unnamed: 0               \n",
       "3                     5  \n",
       "8                     5  \n",
       "9                     5  \n",
       "16                    5  \n",
       "17                    5  "
      ]
     },
     "execution_count": 68,
     "metadata": {},
     "output_type": "execute_result"
    }
   ],
   "source": [
    "df.query(\"count_roles == 5\").head()"
   ]
  },
  {
   "cell_type": "code",
   "execution_count": null,
   "id": "8991d07a-2dd9-4b1b-9d65-1275b681bfae",
   "metadata": {},
   "outputs": [],
   "source": []
  }
 ],
 "metadata": {
  "kernelspec": {
   "display_name": "Python 3 (ipykernel)",
   "language": "python",
   "name": "python3"
  },
  "language_info": {
   "codemirror_mode": {
    "name": "ipython",
    "version": 3
   },
   "file_extension": ".py",
   "mimetype": "text/x-python",
   "name": "python",
   "nbconvert_exporter": "python",
   "pygments_lexer": "ipython3",
   "version": "3.12.4"
  }
 },
 "nbformat": 4,
 "nbformat_minor": 5
}
